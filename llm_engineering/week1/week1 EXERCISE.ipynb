{
 "cells": [
  {
   "cell_type": "markdown",
   "id": "fe12c203-e6a6-452c-a655-afb8a03a4ff5",
   "metadata": {},
   "source": [
    "# End of week 1 exercise\n",
    "\n",
    "To demonstrate your familiarity with OpenAI API, and also Ollama, build a tool that takes a technical question,  \n",
    "and responds with an explanation. This is a tool that you will be able to use yourself during the course!"
   ]
  },
  {
   "cell_type": "code",
   "execution_count": 21,
   "id": "c1070317-3ed9-4659-abe3-828943230e03",
   "metadata": {},
   "outputs": [],
   "source": [
    "# imports\n",
    "import ollama\n",
    "from IPython.display import Markdown, display, update_display"
   ]
  },
  {
   "cell_type": "code",
   "execution_count": 22,
   "id": "4a456906-915a-4bfd-bb9d-57e505c5093f",
   "metadata": {},
   "outputs": [],
   "source": [
    "# constants\n",
    "MODEL_GPT = 'gpt-4o-mini'\n",
    "MODEL_LLAMA = 'llama3.2'\n",
    "messages = []"
   ]
  },
  {
   "cell_type": "code",
   "execution_count": 23,
   "id": "7c143d42",
   "metadata": {},
   "outputs": [],
   "source": [
    "system_prompt = \"\"\"You are a tutor which takes user technical query and responds in detail with explanations, examples and code snippets where applicable. Respond in Markdown\"\"\"\n",
    "messages.append({\"role\": \"system\", \"content\": system_prompt})"
   ]
  },
  {
   "cell_type": "code",
   "execution_count": 24,
   "id": "3d8e8763",
   "metadata": {},
   "outputs": [],
   "source": [
    "def get_response_from_gpt(messages, stream=True):\n",
    "    response = ollama.chat(model=MODEL_LLAMA, messages=messages, stream=stream)\n",
    "    return response"
   ]
  },
  {
   "cell_type": "code",
   "execution_count": 25,
   "id": "946d347c",
   "metadata": {},
   "outputs": [],
   "source": [
    "def get_user_input(questions):\n",
    "    user_input = questions\n",
    "    messages.append({\"role\": \"user\", \"content\": user_input})\n",
    "    return messages"
   ]
  },
  {
   "cell_type": "code",
   "execution_count": 26,
   "id": "3f0d0137-52b0-47a8-81a8-11a90a010798",
   "metadata": {},
   "outputs": [],
   "source": [
    "# here is the question; type over this to ask something new\n",
    "question = \"\"\"\n",
    "Please explain what this code does and why:\n",
    "yield from {book.get(\"author\") for book in books if book.get(\"author\")}\n",
    "\"\"\""
   ]
  },
  {
   "cell_type": "code",
   "execution_count": 27,
   "id": "60ce7000-a4a5-4cce-a261-e75ef45063b4",
   "metadata": {},
   "outputs": [
    {
     "data": {
      "text/markdown": [
       "**Generator Expression Explanation**\n",
       "=====================================\n",
       "\n",
       "The given code snippet is a generator expression written in Python. It's used to extract author names from a list of dictionaries, where each dictionary represents a book.\n",
       "\n",
       "### Breakdown\n",
       "\n",
       "* `yield from`: This keyword allows us to delegate the execution to another iterable (in this case, another generator expression).\n",
       "* `{book.get(\"author\") for book in books if book.get(\"author\")}`: This is an iterator that generates author names. Let's break it down:\n",
       "\t+ `(book.get(\"author\"))`: Extracts the value of the `\"author\"` key from each dictionary `book` and yields it.\n",
       "\t+ `for book in books`: Iterates over the list of dictionaries `books`.\n",
       "\t+ `if book.get(\"author\")`: Filters out any dictionaries that don't have an `\"author\"` key.\n",
       "\n",
       "### How it Works\n",
       "\n",
       "Here's a step-by-step explanation:\n",
       "\n",
       "1. The generator expression is executed, and for each dictionary `book` in the `books` list:\n",
       "2. It checks if the dictionary has an `\"author\"` key using the `get()` method.\n",
       "3. If the key exists, it extracts the author name and yields it.\n",
       "4. The iterator moves on to the next dictionary in the list.\n",
       "\n",
       "### Advantages\n",
       "\n",
       "Using a generator expression here provides several benefits:\n",
       "\n",
       "* **Memory efficiency**: Since we're yielding values one at a time, we don't need to store all the authors in memory simultaneously.\n",
       "* **Lazy evaluation**: We only process dictionaries that have an `\"author\"` key, which can reduce processing overhead.\n",
       "\n",
       "**Example Use Case**\n",
       "--------------------\n",
       "\n",
       "Suppose you have a list of book dictionaries and want to extract author names:\n",
       "python\n",
       "books = [\n",
       "    {\"title\": \"Book 1\", \"author\": \"Author A\"},\n",
       "    {\"title\": \"Book 2\"},\n",
       "    {\"title\": \"Book 3\", \"author\": \"Author C\"}\n",
       "]\n",
       "\n",
       "for author in yield from {book.get(\"author\") for book in books if book.get(\"author\")}:\n",
       "    print(author)\n",
       "\n",
       "Output:\n",
       "\n",
       "Author A\n",
       "Author C\n",
       "\n",
       "This code uses the generator expression to extract author names from the `books` list, then prints them."
      ],
      "text/plain": [
       "<IPython.core.display.Markdown object>"
      ]
     },
     "metadata": {},
     "output_type": "display_data"
    }
   ],
   "source": [
    "# Get gpt-4o-mini to answer, with streaming\n",
    "messages = get_user_input(question)\n",
    "stream_set = get_response_from_gpt(messages)\n",
    "response = \"\"\n",
    "display_handle = display(Markdown(\"\"), display_id=True)\n",
    "for chunk in stream_set:\n",
    "    response += chunk.message[\"content\"] or ''\n",
    "    response = response.replace(\"```\",\"\").replace(\"markdown\", \"\")\n",
    "    update_display(Markdown(response), display_id=display_handle.display_id)\n",
    "    \n"
   ]
  },
  {
   "cell_type": "code",
   "execution_count": 19,
   "id": "8f7c8ea8-4082-4ad0-8751-3301adcf6538",
   "metadata": {},
   "outputs": [],
   "source": [
    "# Get Llama 3.2 to answer"
   ]
  }
 ],
 "metadata": {
  "kernelspec": {
   "display_name": ".venv",
   "language": "python",
   "name": "python3"
  },
  "language_info": {
   "codemirror_mode": {
    "name": "ipython",
    "version": 3
   },
   "file_extension": ".py",
   "mimetype": "text/x-python",
   "name": "python",
   "nbconvert_exporter": "python",
   "pygments_lexer": "ipython3",
   "version": "3.11.9"
  }
 },
 "nbformat": 4,
 "nbformat_minor": 5
}
